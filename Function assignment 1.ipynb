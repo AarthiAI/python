{
 "cells": [
  {
   "cell_type": "code",
   "execution_count": 1,
   "id": "7b9b4583-523c-4fe2-8b72-cac136154ae2",
   "metadata": {},
   "outputs": [
    {
     "name": "stdout",
     "output_type": "stream",
     "text": [
      "Apple\n",
      "Samsung\n",
      "Nokia\n",
      "Oneplus\n"
     ]
    }
   ],
   "source": [
    "#create a class and function, list  out the items in the list\n",
    "# Define a class called ItemList\n",
    "class ItemList:\n",
    "    # Initialize the class with a list of items\n",
    "    def __init__(self, items):\n",
    "        self.items = items\n",
    "\n",
    "    # Method to print all items in the list\n",
    "    def list_items(self):\n",
    "        for item in self.items:\n",
    "            print(item)\n",
    "\n",
    "# Create an instance of ItemList with a list of items\n",
    "my_items = ItemList([\"Apple\", \"Samsung\", \"Nokia\", \"Oneplus\"])\n",
    "\n",
    "# Call the method to list out the items in the list\n",
    "my_items.list_items()\n"
   ]
  },
  {
   "cell_type": "code",
   "execution_count": 3,
   "id": "99be99a7-71fd-4093-a666-cd11c09a2385",
   "metadata": {},
   "outputs": [
    {
     "name": "stdout",
     "output_type": "stream",
     "text": [
      "Subfields in Artificial Intelligence:\n",
      "- Machine learning\n",
      "- Neural Networks\n",
      "- Vision\n",
      "- Robotics\n",
      "- Speech processing\n",
      "- Natural Language processing\n"
     ]
    }
   ],
   "source": [
    "# Define the function Subfields() to list out AI subfields\n",
    "def Subfields():\n",
    "    # List of AI subfields\n",
    "    ai_subfields = [\"Machine learning\", \"Neural Networks\", \"Vision\", \"Robotics\", \"Speech processing\", \n",
    "                    \"Natural Language processing\"]\n",
    "    # Print the subfields\n",
    "    print(\"Subfields in Artificial Intelligence:\")\n",
    "    for subfield in ai_subfields:\n",
    "        print(f\"- {subfield}\")\n",
    "\n",
    "# Call the function to print the subfields\n",
    "Subfields()\n"
   ]
  },
  {
   "cell_type": "code",
   "execution_count": 5,
   "id": "f43668d2-c9dd-4491-a098-ab3f59b3ff60",
   "metadata": {},
   "outputs": [
    {
     "name": "stdin",
     "output_type": "stream",
     "text": [
      "Enter the number: 52452\n"
     ]
    },
    {
     "name": "stdout",
     "output_type": "stream",
     "text": [
      "The number is even\n"
     ]
    }
   ],
   "source": [
    "#create a function that checks whether the given no. is odd or even\n",
    "def check_odd_even(number):\n",
    "    if(number%2 ==0):\n",
    "        print(\"The number is even\")\n",
    "    else:\n",
    "        print(\"The number is odd\")\n",
    "\n",
    "num=int(input(\"Enter the number:\"))\n",
    "check_odd_even(num)\n"
   ]
  },
  {
   "cell_type": "code",
   "execution_count": 7,
   "id": "be62c6b7-2e81-450a-9711-92d7e71b8c79",
   "metadata": {},
   "outputs": [
    {
     "name": "stdin",
     "output_type": "stream",
     "text": [
      "Enter your Gender (male/female):  male\n",
      "Enter your age:  20\n"
     ]
    },
    {
     "name": "stdout",
     "output_type": "stream",
     "text": [
      "NOT ELIGIBLE\n"
     ]
    }
   ],
   "source": [
    "#Create a function that tells elegibility of marriage for male and female according to their age limit like 21 for male and 18 for female\n",
    "def eligibilityForMarriage(age, gender):\n",
    "    if gender.lower() == \"male\":  \n",
    "        if age >= 21:\n",
    "            print(\"ELIGIBLE\")\n",
    "        else:\n",
    "            print(\"NOT ELIGIBLE\")\n",
    "    elif gender.lower() == \"female\":  \n",
    "        if age >= 18:\n",
    "            print(\"ELIGIBLE\")\n",
    "        else:\n",
    "            print(\"NOT ELIGIBLE\")\n",
    "    else:\n",
    "        print(\"Invalid gender input\")\n",
    "\n",
    "# Take gender and age as inputs\n",
    "gender = input(\"Enter your Gender (male/female): \")\n",
    "age = int(input(\"Enter your age: \"))\n",
    "\n",
    "# Call the eligibility function\n",
    "eligibilityForMarriage(age, gender)\n"
   ]
  },
  {
   "cell_type": "code",
   "execution_count": 27,
   "id": "ddc12c62-024d-4d45-af8b-5f67f90b5595",
   "metadata": {},
   "outputs": [
    {
     "name": "stdin",
     "output_type": "stream",
     "text": [
      "Enter marks for Subject 1:  98\n",
      "Enter marks for Subject 2:  87\n",
      "Enter marks for Subject 3:  95\n",
      "Enter marks for Subject 4:  95\n",
      "Enter marks for Subject 5:  93\n"
     ]
    },
    {
     "name": "stdout",
     "output_type": "stream",
     "text": [
      "Total Marks Obtained: 468.0\n",
      "Total Marks Possible: 500\n",
      "Percentage: 93.60%\n"
     ]
    }
   ],
   "source": [
    "def Findpercentpercentage():\n",
    "    # Input marks obtained in each subject\n",
    "    sub1 = float(input(\"Enter marks for Subject 1: \"))\n",
    "    sub2 = float(input(\"Enter marks for Subject 2: \"))\n",
    "    sub3 = float(input(\"Enter marks for Subject 3: \"))\n",
    "    sub4 = float(input(\"Enter marks for Subject 4: \"))\n",
    "    sub5 = float(input(\"Enter marks for Subject 5: \"))\n",
    "    \n",
    "    # Calculate total marks obtained and total marks possible\n",
    "    total_marks_obtained = sub1 + sub2 + sub3 + sub4 + sub5\n",
    "    total_marks_possible = 100 * 5  # Each subject is out of 100 marks\n",
    "    \n",
    "    # Calculate percentage\n",
    "    percentage = (total_marks_obtained / total_marks_possible) * 100\n",
    "    \n",
    "    # Display results\n",
    "    print(f\"Total Marks Obtained: {total_marks_obtained}\")\n",
    "    print(f\"Total Marks Possible: {total_marks_possible}\")\n",
    "    print(f\"Percentage: {percentage:.2f}%\")  # Rounded to two decimal places\n",
    "\n",
    "# Call the function to execute it\n",
    "Findpercentpercentage()\n",
    "\n",
    "\n",
    "\n"
   ]
  },
  {
   "cell_type": "code",
   "execution_count": 35,
   "id": "e4e32f22-37fe-4bb3-846d-11218dc270f4",
   "metadata": {},
   "outputs": [
    {
     "name": "stdin",
     "output_type": "stream",
     "text": [
      "Enter the height of the triangle:  32\n",
      "Enter the breadth of the triangle:  34\n",
      "Enter the first side of the triangle:  2\n",
      "Enter the second side of the triangle:  4\n",
      "Enter the third side of the triangle:  4\n"
     ]
    },
    {
     "name": "stdout",
     "output_type": "stream",
     "text": [
      "Area formula: (Height * Breadth) / 2\n",
      "Area of Triangle: 544.0\n",
      "Perimeter formula: side1 + side2 + side3\n",
      "Perimeter of Triangle: 10.0\n"
     ]
    }
   ],
   "source": [
    "class Triangle:\n",
    "    def __init__(self, height, breadth, side1, side2, side3):\n",
    "        self.height = height\n",
    "        self.breadth = breadth\n",
    "        self.side1 = side1\n",
    "        self.side2 = side2\n",
    "        self.side3 = side3\n",
    "\n",
    "    # Method to calculate area\n",
    "    def area(self):\n",
    "        area_formula = (self.height * self.breadth) / 2\n",
    "        print(f\"Area formula: (Height * Breadth) / 2\")\n",
    "        print(f\"Area of Triangle: {area_formula}\")\n",
    "\n",
    "    # Method to calculate perimeter\n",
    "    def perimeter(self):\n",
    "        perimeter_formula = self.side1 + self.side2 + self.side3\n",
    "        print(f\"Perimeter formula: side1 + side2 + side3\")\n",
    "        print(f\"Perimeter of Triangle: {perimeter_formula}\")\n",
    "\n",
    "# Getting user input for triangle properties\n",
    "height = float(input(\"Enter the height of the triangle: \"))\n",
    "breadth = float(input(\"Enter the breadth of the triangle: \"))\n",
    "side1 = float(input(\"Enter the first side of the triangle: \"))\n",
    "side2 = float(input(\"Enter the second side of the triangle: \"))\n",
    "side3 = float(input(\"Enter the third side of the triangle: \"))\n",
    "\n",
    "# Creating an object of the Triangle class\n",
    "triangle = Triangle(height, breadth, side1, side2, side3)\n",
    "\n",
    "# Calling methods to calculate area and perimeter\n",
    "triangle.area()\n",
    "triangle.perimeter()\n"
   ]
  },
  {
   "cell_type": "code",
   "execution_count": null,
   "id": "16e3eb9c-0d58-42f9-9c2c-547f0cc46773",
   "metadata": {},
   "outputs": [],
   "source": []
  }
 ],
 "metadata": {
  "kernelspec": {
   "display_name": "Python [conda env:base] *",
   "language": "python",
   "name": "conda-base-py"
  },
  "language_info": {
   "codemirror_mode": {
    "name": "ipython",
    "version": 3
   },
   "file_extension": ".py",
   "mimetype": "text/x-python",
   "name": "python",
   "nbconvert_exporter": "python",
   "pygments_lexer": "ipython3",
   "version": "3.12.7"
  }
 },
 "nbformat": 4,
 "nbformat_minor": 5
}
