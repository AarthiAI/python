{
 "cells": [
  {
   "cell_type": "code",
   "execution_count": 1,
   "id": "eb69251b-99c2-4c28-bca6-5bae44c38ac0",
   "metadata": {},
   "outputs": [
    {
     "name": "stdout",
     "output_type": "stream",
     "text": [
      "0\n",
      "1\n",
      "2\n",
      "3\n",
      "4\n",
      "5\n",
      "6\n",
      "7\n",
      "8\n",
      "9\n",
      "10\n",
      "11\n",
      "12\n",
      "13\n",
      "14\n",
      "15\n",
      "16\n",
      "17\n",
      "18\n",
      "19\n"
     ]
    }
   ],
   "source": [
    "#print 0 to 20 by using range\n",
    "for Num in range(20):\n",
    "    print(Num)"
   ]
  },
  {
   "cell_type": "code",
   "execution_count": 3,
   "id": "f9354399-fdcd-476c-80b6-113729a78559",
   "metadata": {},
   "outputs": [
    {
     "name": "stdout",
     "output_type": "stream",
     "text": [
      "10\n",
      "11\n",
      "12\n",
      "13\n",
      "14\n",
      "15\n",
      "16\n",
      "17\n",
      "18\n",
      "19\n"
     ]
    }
   ],
   "source": [
    "#print 10 to 20 by using range\n",
    "for Num in range(10,20):\n",
    "    print(Num)"
   ]
  },
  {
   "cell_type": "code",
   "execution_count": 5,
   "id": "8ddbed45-8e1e-4f9c-8d51-65e4b867233f",
   "metadata": {},
   "outputs": [
    {
     "name": "stdout",
     "output_type": "stream",
     "text": [
      "Number of items in the list: 7\n"
     ]
    }
   ],
   "source": [
    "#print number of items in the list by using len\n",
    "Num=[10, 20, 14, 55, 43, 76, 87]\n",
    "print(\"Number of items in the list:\",len(Num))"
   ]
  },
  {
   "cell_type": "code",
   "execution_count": 7,
   "id": "c7b315a6-1d82-42f6-9397-19f52f5b11a5",
   "metadata": {},
   "outputs": [
    {
     "name": "stdout",
     "output_type": "stream",
     "text": [
      "Artificial intelligence\n",
      "A\n",
      "r\n",
      "t\n",
      "i\n",
      "f\n",
      "i\n",
      "c\n",
      "i\n",
      "a\n",
      "l\n",
      " \n",
      "i\n",
      "n\n",
      "t\n",
      "e\n",
      "l\n",
      "l\n",
      "i\n",
      "g\n",
      "e\n",
      "n\n",
      "c\n",
      "e\n"
     ]
    }
   ],
   "source": [
    "phrase= \"Artificial intelligence\"\n",
    "print(\"Artificial intelligence\")\n",
    "for letters in phrase:\n",
    "    print(letters)"
   ]
  },
  {
   "cell_type": "code",
   "execution_count": 9,
   "id": "0b26f521-b559-4ab7-9c25-12ee27b6e410",
   "metadata": {},
   "outputs": [
    {
     "name": "stdout",
     "output_type": "stream",
     "text": [
      "-your name-\n",
      "-your age-\n",
      "-your profession-\n"
     ]
    }
   ],
   "source": [
    "print(\"-your name-\")\n",
    "print(\"-your age-\")\n",
    "print(\"-your profession-\")"
   ]
  },
  {
   "cell_type": "code",
   "execution_count": 11,
   "id": "03516209-767d-4d93-9767-992cc9792fa0",
   "metadata": {},
   "outputs": [
    {
     "name": "stdout",
     "output_type": "stream",
     "text": [
      "1,'welcome', 2, 'Hope'\n"
     ]
    }
   ],
   "source": [
    "#print this mixed datatype using tuples\n",
    "my_tuple= (\"1,'welcome', 2, 'Hope'\")\n",
    "print(my_tuple)"
   ]
  },
  {
   "cell_type": "code",
   "execution_count": 13,
   "id": "e4d1fc2a-dede-4f2c-89b3-e4b1db824300",
   "metadata": {},
   "outputs": [
    {
     "name": "stdout",
     "output_type": "stream",
     "text": [
      "((0, 1, 2, 3), ('python', 'HOPE'))\n"
     ]
    }
   ],
   "source": [
    "#print this mixed datatype using tuples\n",
    "my_tuple= ((0,1,2,3),('python', 'HOPE'))\n",
    "print(my_tuple)"
   ]
  },
  {
   "cell_type": "code",
   "execution_count": 15,
   "id": "61db1420-1b9e-4e2c-ac43-6ccd8ebc4576",
   "metadata": {},
   "outputs": [
    {
     "name": "stdout",
     "output_type": "stream",
     "text": [
      "19 is odd\n",
      "25 is odd\n",
      "1 is odd\n"
     ]
    }
   ],
   "source": [
    "#print odd numbers in the list\n",
    "my_list= [20, 10, 16, 19, 25, 1, 276, 188]\n",
    "for number in my_list:\n",
    "    if (number %2 !=0):\n",
    "        print(number, \"is odd\")"
   ]
  },
  {
   "cell_type": "code",
   "execution_count": 17,
   "id": "32f339f2-9a73-4987-aae8-2533d1dc9c28",
   "metadata": {},
   "outputs": [
    {
     "name": "stdout",
     "output_type": "stream",
     "text": [
      "20 is even\n",
      "10 is even\n",
      "16 is even\n",
      "276 is even\n",
      "188 is even\n"
     ]
    }
   ],
   "source": [
    "#print even numbers in the list\n",
    "my_list= [20, 10, 16, 19, 25, 1, 276, 188]\n",
    "for number in my_list:\n",
    "    if (number %2 ==0):\n",
    "        print(number, \"is even\")"
   ]
  },
  {
   "cell_type": "code",
   "execution_count": null,
   "id": "3021e200-a9a0-4b91-bc8d-319988e41670",
   "metadata": {},
   "outputs": [],
   "source": []
  },
  {
   "cell_type": "code",
   "execution_count": null,
   "id": "b0492342-af84-458d-918d-91a3397ddcb8",
   "metadata": {},
   "outputs": [],
   "source": []
  }
 ],
 "metadata": {
  "kernelspec": {
   "display_name": "Python [conda env:base] *",
   "language": "python",
   "name": "conda-base-py"
  },
  "language_info": {
   "codemirror_mode": {
    "name": "ipython",
    "version": 3
   },
   "file_extension": ".py",
   "mimetype": "text/x-python",
   "name": "python",
   "nbconvert_exporter": "python",
   "pygments_lexer": "ipython3",
   "version": "3.12.7"
  }
 },
 "nbformat": 4,
 "nbformat_minor": 5
}
