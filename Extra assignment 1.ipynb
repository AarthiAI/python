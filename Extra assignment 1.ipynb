{
 "cells": [
  {
   "cell_type": "code",
   "execution_count": 1,
   "id": "d3561e48-0b10-402e-bd39-cf5f7747f7c5",
   "metadata": {},
   "outputs": [
    {
     "name": "stdout",
     "output_type": "stream",
     "text": [
      "HOPE AI\n"
     ]
    }
   ],
   "source": [
    "print(\"HOPE AI\")"
   ]
  },
  {
   "cell_type": "code",
   "execution_count": 9,
   "id": "aba9064d-c333-492f-8a2b-838b59b04e7c",
   "metadata": {},
   "outputs": [
    {
     "name": "stdin",
     "output_type": "stream",
     "text": [
      "Enter your institution name: HOPE AI\n"
     ]
    },
    {
     "data": {
      "text/plain": [
       "'HOPE AI'"
      ]
     },
     "execution_count": 9,
     "metadata": {},
     "output_type": "execute_result"
    }
   ],
   "source": [
    "str(input(\"Enter your institution name:\"))"
   ]
  },
  {
   "cell_type": "code",
   "execution_count": 13,
   "id": "3cf582e5-a12a-40f8-b7fa-ac06600172b2",
   "metadata": {},
   "outputs": [
    {
     "name": "stdin",
     "output_type": "stream",
     "text": [
      "Enter your name: Raj\n",
      "Enter your age: 26\n",
      "Enter your school name: Guru school\n",
      "Enter your degree: B.E CSE\n"
     ]
    },
    {
     "data": {
      "text/plain": [
       "'B.E CSE'"
      ]
     },
     "execution_count": 13,
     "metadata": {},
     "output_type": "execute_result"
    }
   ],
   "source": [
    "str(input(\"Enter your name:\"))\n",
    "int(input(\"Enter your age:\"))\n",
    "str(input(\"Enter your school name:\"))\n",
    "str(input(\"Enter your degree:\"))"
   ]
  },
  {
   "cell_type": "code",
   "execution_count": 21,
   "id": "ca9105c9-07a6-43af-9244-cd17d7a16b57",
   "metadata": {},
   "outputs": [
    {
     "name": "stdout",
     "output_type": "stream",
     "text": [
      "Add= 77\n"
     ]
    }
   ],
   "source": [
    "a=43\n",
    "b=34\n",
    "add=(a+b)\n",
    "print(\"Add=\", add)"
   ]
  },
  {
   "cell_type": "code",
   "execution_count": 25,
   "id": "6ad68c12-44bc-4d8a-96b7-4c92ce2b4f92",
   "metadata": {},
   "outputs": [
    {
     "name": "stdout",
     "output_type": "stream",
     "text": [
      "Sub= 9\n"
     ]
    }
   ],
   "source": [
    "a=43\n",
    "b=34\n",
    "sub=(a-b)\n",
    "print(\"Sub=\", sub)"
   ]
  },
  {
   "cell_type": "code",
   "execution_count": 27,
   "id": "9bd57f31-e909-4bfc-86a6-2a036d09360c",
   "metadata": {},
   "outputs": [
    {
     "name": "stdout",
     "output_type": "stream",
     "text": [
      "Mul= 6111\n"
     ]
    }
   ],
   "source": [
    "a=63\n",
    "b=97\n",
    "mul=(a*b)\n",
    "print(\"Mul=\", mul)"
   ]
  },
  {
   "cell_type": "code",
   "execution_count": 29,
   "id": "627132ce-4d0c-43f5-bb1a-b70fd099292c",
   "metadata": {},
   "outputs": [
    {
     "name": "stdout",
     "output_type": "stream",
     "text": [
      "Floor div= 2\n"
     ]
    }
   ],
   "source": [
    "a=76\n",
    "b=31\n",
    "div=(a//b)\n",
    "print(\"Floor div=\", div)"
   ]
  },
  {
   "cell_type": "code",
   "execution_count": 31,
   "id": "0ac7386d-dc1d-44da-bf8e-ab7f42c92622",
   "metadata": {},
   "outputs": [
    {
     "name": "stdout",
     "output_type": "stream",
     "text": [
      "Modulo= 14\n"
     ]
    }
   ],
   "source": [
    "a=76\n",
    "b=31\n",
    "mod=(a%b)\n",
    "print(\"Modulo=\", mod)"
   ]
  },
  {
   "cell_type": "code",
   "execution_count": 35,
   "id": "521506e8-7109-47a0-93c0-77d4b05a3420",
   "metadata": {},
   "outputs": [
    {
     "name": "stdout",
     "output_type": "stream",
     "text": [
      "Power= 256\n"
     ]
    }
   ],
   "source": [
    "a=4\n",
    "b=4\n",
    "pow=(a**b)\n",
    "print(\"Power=\", pow)"
   ]
  },
  {
   "cell_type": "code",
   "execution_count": null,
   "id": "a75689ff-980a-4d92-8bfd-7f79086da4e4",
   "metadata": {},
   "outputs": [],
   "source": []
  }
 ],
 "metadata": {
  "kernelspec": {
   "display_name": "Python [conda env:base] *",
   "language": "python",
   "name": "conda-base-py"
  },
  "language_info": {
   "codemirror_mode": {
    "name": "ipython",
    "version": 3
   },
   "file_extension": ".py",
   "mimetype": "text/x-python",
   "name": "python",
   "nbconvert_exporter": "python",
   "pygments_lexer": "ipython3",
   "version": "3.12.7"
  }
 },
 "nbformat": 4,
 "nbformat_minor": 5
}
