{
 "cells": [
  {
   "cell_type": "code",
   "execution_count": 1,
   "id": "0ae14f35-8cbf-480c-ba40-b2dd74486d0a",
   "metadata": {},
   "outputs": [
    {
     "name": "stdin",
     "output_type": "stream",
     "text": [
      "Value:  10\n"
     ]
    },
    {
     "name": "stdout",
     "output_type": "stream",
     "text": [
      "CORRECT\n"
     ]
    }
   ],
   "source": [
    "#print \"CORRECT\" if i==10\n",
    "num = int(input(\"Value: \"))\n",
    "if num == 10:\n",
    "    print(\"CORRECT\")\n"
   ]
  },
  {
   "cell_type": "code",
   "execution_count": 2,
   "id": "13da5ea9-fc25-4fae-8afb-a25d3f3b0007",
   "metadata": {},
   "outputs": [
    {
     "name": "stdin",
     "output_type": "stream",
     "text": [
      "Enter the password: HOPE@123\n"
     ]
    },
    {
     "name": "stdout",
     "output_type": "stream",
     "text": [
      "your password is correct\n"
     ]
    }
   ],
   "source": [
    "#check the password using if and else\n",
    "pw=input(\"Enter the password:\")\n",
    "if (pw==\"HOPE@123\"):\n",
    "    print(\"your password is correct\")\n",
    "else:\n",
    "    print(\"your password is incorrect\")"
   ]
  },
  {
   "cell_type": "code",
   "execution_count": 5,
   "id": "27d89c46-e668-4f64-abb5-776f77926af3",
   "metadata": {},
   "outputs": [
    {
     "name": "stdin",
     "output_type": "stream",
     "text": [
      "age: 20\n"
     ]
    },
    {
     "name": "stdout",
     "output_type": "stream",
     "text": [
      "adult\n"
     ]
    }
   ],
   "source": [
    "#category the people by their children, adult, citizen, senior citizen..\n",
    "age=int(input(\"age:\"))\n",
    "if(age<18):\n",
    "    print(\"children\")\n",
    "elif(age>19):\n",
    "    print(\"adult\")\n",
    "    \n",
    "elif(age>64):\n",
    "    print(\"citizen\")\n",
    "else:\n",
    "    print(\"senior citizen\")\n"
   ]
  },
  {
   "cell_type": "code",
   "execution_count": 7,
   "id": "f882b6c7-cee3-4871-91ce-a72663ca6f9a",
   "metadata": {},
   "outputs": [
    {
     "name": "stdin",
     "output_type": "stream",
     "text": [
      "Enter any number: 1\n"
     ]
    },
    {
     "name": "stdout",
     "output_type": "stream",
     "text": [
      "Number is positive\n"
     ]
    }
   ],
   "source": [
    "#find whether given number is positive or negative\n",
    "num=int(input(\"Enter any number:\"))\n",
    "if(num>0):\n",
    "    print(\"Number is positive\")\n",
    "elif(num<0):\n",
    "    print(\"Number is negative\")\n",
    "else:\n",
    "    print(\"Number is Zero\")"
   ]
  },
  {
   "cell_type": "code",
   "execution_count": 9,
   "id": "2831a271-3b91-4fe7-a05f-303b3329712e",
   "metadata": {},
   "outputs": [
    {
     "name": "stdin",
     "output_type": "stream",
     "text": [
      "Enter a number to check: 22\n"
     ]
    },
    {
     "name": "stdout",
     "output_type": "stream",
     "text": [
      "Number is not divisible by 5\n"
     ]
    }
   ],
   "source": [
    "#check whether the given number is divisible by 5\n",
    "num=int(input(\"Enter a number to check:\"))\n",
    "if(num % 5==0):\n",
    "    print(\"Number is divisible by 5\")\n",
    "else:\n",
    "    print(\"Number is not divisible by 5\")\n"
   ]
  },
  {
   "cell_type": "code",
   "execution_count": null,
   "id": "fb220fb9-bb71-4f57-80ba-e3f1c4fa6f0f",
   "metadata": {},
   "outputs": [],
   "source": []
  }
 ],
 "metadata": {
  "kernelspec": {
   "display_name": "Python [conda env:base] *",
   "language": "python",
   "name": "conda-base-py"
  },
  "language_info": {
   "codemirror_mode": {
    "name": "ipython",
    "version": 3
   },
   "file_extension": ".py",
   "mimetype": "text/x-python",
   "name": "python",
   "nbconvert_exporter": "python",
   "pygments_lexer": "ipython3",
   "version": "3.12.7"
  }
 },
 "nbformat": 4,
 "nbformat_minor": 5
}
