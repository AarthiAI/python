{
 "cells": [
  {
   "cell_type": "code",
   "execution_count": 1,
   "id": "92a5a14d-25ff-4798-8fe8-991374b41dcc",
   "metadata": {},
   "outputs": [
    {
     "name": "stdout",
     "output_type": "stream",
     "text": [
      "welcome to assignment-1\n"
     ]
    }
   ],
   "source": [
    "print(\"welcome to assignment-1\")"
   ]
  },
  {
   "cell_type": "code",
   "execution_count": 5,
   "id": "c4160f0c-4615-4d0a-a878-9c03db783616",
   "metadata": {},
   "outputs": [
    {
     "name": "stdout",
     "output_type": "stream",
     "text": [
      "Num1= 10\n",
      "Num2= 30\n",
      "40\n"
     ]
    }
   ],
   "source": [
    "Num1=10\n",
    "Num2=30\n",
    "print(\"Num1= 10\")\n",
    "print(\"Num2= 30\")\n",
    "Add= (Num1+Num2)\n",
    "print(Add)"
   ]
  },
  {
   "cell_type": "code",
   "execution_count": 7,
   "id": "e9e22a3e-20e7-426e-b8d8-eb7353d3520f",
   "metadata": {},
   "outputs": [
    {
     "name": "stdin",
     "output_type": "stream",
     "text": [
      "Enter the BMI index: 34\n"
     ]
    },
    {
     "name": "stdout",
     "output_type": "stream",
     "text": [
      "over weight\n"
     ]
    }
   ],
   "source": [
    "#Body mass index\n",
    "BMI= float(input(\"Enter the BMI index:\"))\n",
    "if (BMI<18.5):\n",
    "    print(\"under weight\")\n",
    "elif (BMI==18.5-24.9):\n",
    "    print(\"Normal weight\")\n",
    "else:\n",
    "    print(\"over weight\")"
   ]
  },
  {
   "cell_type": "code",
   "execution_count": null,
   "id": "9d6b716e-c7a9-47ab-8e45-4c4b94374ee1",
   "metadata": {},
   "outputs": [],
   "source": []
  }
 ],
 "metadata": {
  "kernelspec": {
   "display_name": "Python [conda env:base] *",
   "language": "python",
   "name": "conda-base-py"
  },
  "language_info": {
   "codemirror_mode": {
    "name": "ipython",
    "version": 3
   },
   "file_extension": ".py",
   "mimetype": "text/x-python",
   "name": "python",
   "nbconvert_exporter": "python",
   "pygments_lexer": "ipython3",
   "version": "3.12.7"
  }
 },
 "nbformat": 4,
 "nbformat_minor": 5
}
